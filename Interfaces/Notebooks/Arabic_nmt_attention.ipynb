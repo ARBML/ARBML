{
  "nbformat": 4,
  "nbformat_minor": 0,
  "metadata": {
    "colab": {
      "name": "Arabic_nmt_attention.ipynb",
      "version": "0.3.2",
      "provenance": [],
      "collapsed_sections": []
    },
    "kernelspec": {
      "name": "python3",
      "display_name": "Python 3"
    },
    "accelerator": "GPU"
  },
  "cells": [
    {
      "cell_type": "markdown",
      "metadata": {
        "id": "li2urxLvitNw",
        "colab_type": "text"
      },
      "source": [
        "This is a modified version of the code published by TensorFlow https://www.tensorflow.org/alpha/tutorials/text/nmt_with_attention"
      ]
    },
    {
      "cell_type": "markdown",
      "metadata": {
        "colab_type": "text",
        "id": "AOpGoE2T-YXS"
      },
      "source": [
        "##### Copyright 2018 The TensorFlow Authors.\n",
        "\n",
        "Licensed under the Apache License, Version 2.0 (the \"License\").\n",
        "\n",
        "# Neural Machine Translation with Attention\n"
      ]
    },
    {
      "cell_type": "code",
      "metadata": {
        "colab_type": "code",
        "id": "tnxXKDjq3jEL",
        "outputId": "a9281797-f273-4d89-d49a-6ea6e6f3555d",
        "colab": {
          "base_uri": "https://localhost:8080/",
          "height": 34
        }
      },
      "source": [
        "from __future__ import absolute_import, division, print_function\n",
        "\n",
        "import tensorflow as tf\n",
        "\n",
        "tf.enable_eager_execution()\n",
        "\n",
        "import matplotlib.pyplot as plt\n",
        "from sklearn.model_selection import train_test_split\n",
        "\n",
        "import unicodedata\n",
        "import re\n",
        "import numpy as np\n",
        "import os\n",
        "import time\n",
        "\n",
        "print(tf.__version__)"
      ],
      "execution_count": 1,
      "outputs": [
        {
          "output_type": "stream",
          "text": [
            "1.13.1\n"
          ],
          "name": "stdout"
        }
      ]
    },
    {
      "cell_type": "code",
      "metadata": {
        "id": "uuJUAg3DYbzM",
        "colab_type": "code",
        "outputId": "7bf96bb8-97b9-4fdf-eed7-23654f531067",
        "colab": {
          "base_uri": "https://localhost:8080/",
          "height": 255
        }
      },
      "source": [
        "#download the dataset\n",
        "!wget http://www.manythings.org/anki/ara-eng.zip\n",
        "!unzip ara-eng.zip"
      ],
      "execution_count": 3,
      "outputs": [
        {
          "output_type": "stream",
          "text": [
            "--2019-05-30 19:16:01--  http://www.manythings.org/anki/ara-eng.zip\n",
            "Resolving www.manythings.org (www.manythings.org)... 104.24.109.196, 104.24.108.196, 2606:4700:30::6818:6cc4, ...\n",
            "Connecting to www.manythings.org (www.manythings.org)|104.24.109.196|:80... connected.\n",
            "HTTP request sent, awaiting response... 200 OK\n",
            "Length: 264050 (258K) [application/zip]\n",
            "Saving to: ‘ara-eng.zip’\n",
            "\n",
            "\rara-eng.zip           0%[                    ]       0  --.-KB/s               \rara-eng.zip         100%[===================>] 257.86K  --.-KB/s    in 0.1s    \n",
            "\n",
            "2019-05-30 19:16:02 (2.23 MB/s) - ‘ara-eng.zip’ saved [264050/264050]\n",
            "\n",
            "Archive:  ara-eng.zip\n",
            "  inflating: _about.txt              \n",
            "  inflating: ara.txt                 \n"
          ],
          "name": "stdout"
        }
      ]
    },
    {
      "cell_type": "code",
      "metadata": {
        "id": "aaDLMeYpYsS3",
        "colab_type": "code",
        "outputId": "23f3a557-18a4-400b-c55a-8c0ef46e4504",
        "colab": {
          "base_uri": "https://localhost:8080/",
          "height": 102
        }
      },
      "source": [
        "!cat ara.txt | head -5"
      ],
      "execution_count": 2,
      "outputs": [
        {
          "output_type": "stream",
          "text": [
            "Hi.\tمرحبًا.\n",
            "Run!\tاركض!\n",
            "Help!\tالنجدة!\n",
            "Jump!\tاقفز!\n",
            "Stop!\tقف!\n"
          ],
          "name": "stdout"
        }
      ]
    },
    {
      "cell_type": "code",
      "metadata": {
        "colab_type": "code",
        "id": "kRVATYOgJs1b",
        "colab": {}
      },
      "source": [
        "path_to_file = \"ara.txt\""
      ],
      "execution_count": 0,
      "outputs": []
    },
    {
      "cell_type": "markdown",
      "metadata": {
        "colab_type": "text",
        "id": "wfodePkj3jEa"
      },
      "source": [
        "## Prepare the dataset\n",
        "\n",
        "Each line in the dataset contains a line with two statements one in Arabic and one in English\n",
        "\n",
        "`Call me.\tاتصل بي.`\n",
        "\n",
        "After downloading the dataset, here are the steps we'll take to prepare the data:\n",
        "\n",
        "1. Add a *start* and *end* token to each sentence.\n",
        "2. Clean the sentences by removing special characters.\n",
        "3. Create a word index and reverse word index (dictionaries mapping from word → id and id → word).\n",
        "4. Pad each sentence to a maximum length."
      ]
    },
    {
      "cell_type": "code",
      "metadata": {
        "colab_type": "code",
        "id": "rd0jw-eC3jEh",
        "colab": {}
      },
      "source": [
        "# Converts the unicode file to ascii\n",
        "def unicode_to_ascii(s):\n",
        "    return ''.join(c for c in unicodedata.normalize('NFD', s)\n",
        "        if unicodedata.category(c) != 'Mn')\n",
        "\n",
        "\n",
        "def preprocess_sentence(w):\n",
        "    w = unicode_to_ascii(w.lower().strip())\n",
        "    \n",
        "    # creating a space between a word and the punctuation following it\n",
        "    # eg: \"he is a boy.\" => \"he is a boy .\" \n",
        "    # Reference:- https://stackoverflow.com/questions/3645931/python-padding-punctuation-with-white-spaces-keeping-punctuation\n",
        "    w = re.sub(r\"([?.!,¿])\", r\" \\1 \", w)\n",
        "    w = re.sub(r'[\" \"]+', \" \", w)\n",
        "    \n",
        "    # replacing everything with space except (a-z, A-Z, \".\", \"?\", \"!\", \",\")\n",
        "    #w = re.sub(r\"[^a-zA-Z?.!,¿]+\", \" \", w)\n",
        "    \n",
        "    w = w.rstrip().strip()\n",
        "    \n",
        "    # adding a start and an end token to the sentence\n",
        "    # so that the model know when to start and stop predicting.\n",
        "    w = '<start> ' + w + ' <end>'\n",
        "    return w"
      ],
      "execution_count": 0,
      "outputs": []
    },
    {
      "cell_type": "code",
      "metadata": {
        "colab_type": "code",
        "id": "OHn4Dct23jEm",
        "colab": {}
      },
      "source": [
        "# 1. Remove the accents\n",
        "# 2. Clean the sentences\n",
        "# 3. Return word pairs in the format: [ENGLISH, SPANISH]\n",
        "def create_dataset(path, num_examples):\n",
        "    lines = open(path, encoding='UTF-8').read().strip().split('\\n')\n",
        "    print(lines[0].split('\\t'))\n",
        "    word_pairs = [[preprocess_sentence(w) for w in l.split('\\t')]  for l in lines[:num_examples]]\n",
        "    \n",
        "    return word_pairs"
      ],
      "execution_count": 0,
      "outputs": []
    },
    {
      "cell_type": "code",
      "metadata": {
        "colab_type": "code",
        "id": "9xbqO7Iie9bb",
        "colab": {}
      },
      "source": [
        "# This class creates a word -> index mapping (e.g,. \"dad\" -> 5) and vice-versa \n",
        "# (e.g., 5 -> \"dad\") for each language,\n",
        "class LanguageIndex():\n",
        "  def __init__(self, lang):\n",
        "    self.lang = lang\n",
        "    self.word2idx = {}\n",
        "    self.idx2word = {}\n",
        "    self.vocab = set()\n",
        "    \n",
        "    self.create_index()\n",
        "    \n",
        "  def create_index(self):\n",
        "    for phrase in self.lang:\n",
        "      self.vocab.update(phrase.split(' '))\n",
        "    \n",
        "    self.vocab = sorted(self.vocab)\n",
        "    \n",
        "    self.word2idx['<pad>'] = 0\n",
        "    for index, word in enumerate(self.vocab):\n",
        "      self.word2idx[word] = index + 1\n",
        "    \n",
        "    for word, index in self.word2idx.items():\n",
        "      self.idx2word[index] = word"
      ],
      "execution_count": 0,
      "outputs": []
    },
    {
      "cell_type": "code",
      "metadata": {
        "colab_type": "code",
        "id": "eAY9k49G3jE_",
        "colab": {}
      },
      "source": [
        "def max_length(tensor):\n",
        "    return max(len(t) for t in tensor)\n",
        "\n",
        "\n",
        "def load_dataset(path, num_examples):\n",
        "    # creating cleaned input, output pairs\n",
        "    pairs = create_dataset(path, num_examples)\n",
        "\n",
        "    # index language using the class defined above    \n",
        "    inp_lang = LanguageIndex(sp for en, sp in pairs)\n",
        "    targ_lang = LanguageIndex(en for en, sp in pairs)\n",
        "    \n",
        "    # Vectorize the input and target languages\n",
        "    \n",
        "    # Spanish sentences\n",
        "    input_tensor = [[inp_lang.word2idx[s] for s in sp.split(' ')] for en, sp in pairs]\n",
        "    \n",
        "    # English sentences\n",
        "    target_tensor = [[targ_lang.word2idx[s] for s in en.split(' ')] for en, sp in pairs]\n",
        "    \n",
        "    # Calculate max_length of input and output tensor\n",
        "    # Here, we'll set those to the longest sentence in the dataset\n",
        "    max_length_inp, max_length_tar = max_length(input_tensor), max_length(target_tensor)\n",
        "    \n",
        "    # Padding the input and output tensor to the maximum length\n",
        "    input_tensor = tf.keras.preprocessing.sequence.pad_sequences(input_tensor, \n",
        "                                                                 maxlen=max_length_inp,\n",
        "                                                                 padding='post')\n",
        "    \n",
        "    target_tensor = tf.keras.preprocessing.sequence.pad_sequences(target_tensor, \n",
        "                                                                  maxlen=max_length_tar, \n",
        "                                                                  padding='post')\n",
        "    \n",
        "    return input_tensor, target_tensor, inp_lang, targ_lang, max_length_inp, max_length_tar"
      ],
      "execution_count": 0,
      "outputs": []
    },
    {
      "cell_type": "markdown",
      "metadata": {
        "colab_type": "text",
        "id": "GOi42V79Ydlr"
      },
      "source": [
        "### Limit the size of the dataset to experiment faster (optional)\n",
        "\n",
        "You can reduce the num_examples to train faster"
      ]
    },
    {
      "cell_type": "code",
      "metadata": {
        "colab_type": "code",
        "id": "cnxC7q-j3jFD",
        "outputId": "b284a3de-83a6-480b-b247-3c5a6def2583",
        "colab": {
          "base_uri": "https://localhost:8080/",
          "height": 34
        }
      },
      "source": [
        "# Try experimenting with the size of that dataset\n",
        "num_examples = 30000\n",
        "input_tensor, target_tensor, inp_lang, targ_lang, max_length_inp, max_length_targ = load_dataset(path_to_file, num_examples)"
      ],
      "execution_count": 9,
      "outputs": [
        {
          "output_type": "stream",
          "text": [
            "['Hi.', 'مرحبًا.']\n"
          ],
          "name": "stdout"
        }
      ]
    },
    {
      "cell_type": "code",
      "metadata": {
        "colab_type": "code",
        "id": "4QILQkOs3jFG",
        "outputId": "a69aed79-30c5-4f4c-8bc3-66ccdff55910",
        "colab": {
          "base_uri": "https://localhost:8080/",
          "height": 34
        }
      },
      "source": [
        "# Creating training and validation sets using an 80-20 split\n",
        "input_tensor_train, input_tensor_val, target_tensor_train, target_tensor_val = train_test_split(input_tensor, target_tensor, test_size=0.01)\n",
        "\n",
        "# Show length\n",
        "len(input_tensor_train), len(target_tensor_train), len(input_tensor_val), len(target_tensor_val)"
      ],
      "execution_count": 10,
      "outputs": [
        {
          "output_type": "execute_result",
          "data": {
            "text/plain": [
              "(10830, 10830, 110, 110)"
            ]
          },
          "metadata": {
            "tags": []
          },
          "execution_count": 10
        }
      ]
    },
    {
      "cell_type": "markdown",
      "metadata": {
        "colab_type": "text",
        "id": "rgCLkfv5uO3d"
      },
      "source": [
        "### Create a tf.data dataset"
      ]
    },
    {
      "cell_type": "code",
      "metadata": {
        "colab_type": "code",
        "id": "TqHsArVZ3jFS",
        "colab": {}
      },
      "source": [
        "BUFFER_SIZE = len(input_tensor_train)\n",
        "BATCH_SIZE = 64\n",
        "N_BATCH = BUFFER_SIZE//BATCH_SIZE\n",
        "embedding_dim = 256\n",
        "units = 256\n",
        "vocab_inp_size = len(inp_lang.word2idx)\n",
        "vocab_tar_size = len(targ_lang.word2idx)\n",
        "\n",
        "dataset = tf.data.Dataset.from_tensor_slices((input_tensor_train, target_tensor_train)).shuffle(BUFFER_SIZE)\n",
        "dataset = dataset.batch(BATCH_SIZE, drop_remainder=True)"
      ],
      "execution_count": 0,
      "outputs": []
    },
    {
      "cell_type": "markdown",
      "metadata": {
        "colab_type": "text",
        "id": "TNfHIF71ulLu"
      },
      "source": [
        "## Write the encoder and decoder model\n",
        "\n",
        "Here, we'll implement an encoder-decoder model with attention which you can read about in the TensorFlow [Neural Machine Translation (seq2seq) tutorial](https://github.com/tensorflow/nmt). This example uses a more recent set of APIs. This notebook implements the [attention equations](https://github.com/tensorflow/nmt#background-on-the-attention-mechanism) from the seq2seq tutorial. The following diagram shows that each input word is assigned a weight by the attention mechanism which is then used by the decoder to predict the next word in the sentence.\n",
        "\n",
        "<img src=\"https://www.tensorflow.org/images/seq2seq/attention_mechanism.jpg\" width=\"500\" alt=\"attention mechanism\">\n",
        "\n",
        "The input is put through an encoder model which gives us the encoder output of shape *(batch_size, max_length, hidden_size)* and the encoder hidden state of shape *(batch_size, hidden_size)*. \n",
        "\n",
        "Here are the equations that are implemented:\n",
        "\n",
        "<img src=\"https://www.tensorflow.org/images/seq2seq/attention_equation_0.jpg\" alt=\"attention equation 0\" width=\"800\">\n",
        "<img src=\"https://www.tensorflow.org/images/seq2seq/attention_equation_1.jpg\" alt=\"attention equation 1\" width=\"800\">\n",
        "\n",
        "We're using *Bahdanau attention*. Lets decide on notation before writing the simplified form:\n",
        "\n",
        "* FC = Fully connected (dense) layer\n",
        "* EO = Encoder output\n",
        "* H = hidden state\n",
        "* X = input to the decoder\n",
        "\n",
        "And the pseudo-code:\n",
        "\n",
        "* `score = FC(tanh(FC(EO) + FC(H)))`\n",
        "* `attention weights = softmax(score, axis = 1)`. Softmax by default is applied on the last axis but here we want to apply it on the *1st axis*, since the shape of score is *(batch_size, max_length, 1)*. `Max_length` is the length of our input. Since we are trying to assign a weight to each input, softmax should be applied on that axis.\n",
        "* `context vector = sum(attention weights * EO, axis = 1)`. Same reason as above for choosing axis as 1.\n",
        "* `embedding output` = The input to the decoder X is passed through an embedding layer.\n",
        "* `merged vector = concat(embedding output, context vector)`\n",
        "* This merged vector is then given to the GRU\n",
        "  \n",
        "The shapes of all the vectors at each step have been specified in the comments in the code:"
      ]
    },
    {
      "cell_type": "code",
      "metadata": {
        "colab_type": "code",
        "id": "avyJ_4VIUoHb",
        "colab": {}
      },
      "source": [
        "def gru(units):\n",
        "  # If you have a GPU, we recommend using CuDNNGRU(provides a 3x speedup than GRU)\n",
        "  # the code automatically does that.\n",
        "  return tf.keras.layers.GRU(units, \n",
        "                             return_sequences=True, \n",
        "                             return_state=True, \n",
        "                             recurrent_activation='sigmoid', \n",
        "                             recurrent_initializer='glorot_uniform')"
      ],
      "execution_count": 0,
      "outputs": []
    },
    {
      "cell_type": "code",
      "metadata": {
        "id": "F_u4VhyhZOWO",
        "colab_type": "code",
        "colab": {}
      },
      "source": [
        "def get_encoder(vocab_size, embedding_dim, enc_units, batch_sz):\n",
        "    hidden = tf.zeros((batch_sz, enc_units))\n",
        "    input = tf.keras.layers.Input((max_length_inp,))\n",
        "    x = tf.keras.layers.Embedding(vocab_size, embedding_dim)(input)\n",
        "    x = gru(units)(x)\n",
        "    return tf.keras.models.Model(inputs = input, outputs = x)"
      ],
      "execution_count": 0,
      "outputs": []
    },
    {
      "cell_type": "code",
      "metadata": {
        "id": "mcBgaSusdX91",
        "colab_type": "code",
        "colab": {}
      },
      "source": [
        "def get_decoder(vocab_size, embedding_dim, units, batch_sz):\n",
        "  \n",
        "    #define the inputs to the decoder\n",
        "    enc_output = tf.keras.layers.Input((max_length_inp, embedding_dim))\n",
        "    enc_hidden = tf.keras.layers.Input((embedding_dim,))\n",
        "    dec_input = tf.keras.layers.Input((1,))\n",
        "    \n",
        "    hidden_with_time_axis = tf.keras.layers.Reshape((1, embedding_dim))(enc_hidden)\n",
        "\n",
        "    # we get 1 at the last axis because we are applying tanh(FC(EO) + FC(H)) to self.V\n",
        "    W1 = tf.keras.layers.Dense(units)\n",
        "    W2 = tf.keras.layers.Dense(units)\n",
        "    V  = tf.keras.layers.Dense(1, activation = 'softmax')\n",
        "    \n",
        "    attention_weights = V(tf.keras.layers.Activation(activation = \"tanh\")(tf.keras.layers.Add()([W1(enc_output), W2(hidden_with_time_axis)])))\n",
        "    \n",
        "    # context_vector shape after sum == (batch_size, hidden_size)\n",
        "    context_vector = tf.keras.layers.Multiply()([attention_weights, enc_output])\n",
        "    \n",
        "    # reshape the context_vector to concatneate with the output of the first input\n",
        "    context_vector = tf.keras.layers.Permute((2, 1))(context_vector)\n",
        "    context_vector = tf.keras.layers.Dense(1)(context_vector)\n",
        "    context_vector = tf.keras.layers.Permute((2, 1))(context_vector)\n",
        "    \n",
        "    x = tf.keras.layers.Embedding(vocab_size, embedding_dim)(dec_input)\n",
        "\n",
        "    # x shape after concatenation == (batch_size, 1, embedding_dim + hidden_size)\n",
        "    x = tf.keras.layers.Concatenate(axis = -1)([context_vector, x])\n",
        "\n",
        "    # passing the concatenated vector to the GRU\n",
        "    output, state = gru(units)(x)\n",
        "\n",
        "    # output shape == (batch_size * 1, hidden_size)\n",
        "    output = tf.keras.layers.Reshape((output.shape[2],))(output)\n",
        "\n",
        "    # output shape == (batch_size * 1, vocab)\n",
        "    x = tf.keras.layers.Dense(vocab_size)(output)\n",
        "\n",
        "    return tf.keras.models.Model(inputs = [dec_input, enc_hidden, enc_output], outputs = x)"
      ],
      "execution_count": 0,
      "outputs": []
    },
    {
      "cell_type": "code",
      "metadata": {
        "id": "q1riioIvyZ-h",
        "colab_type": "code",
        "colab": {
          "base_uri": "https://localhost:8080/",
          "height": 88
        },
        "outputId": "73a4eec0-fb1c-4dc6-a156-3880b6cfe5cc"
      },
      "source": [
        "encoder = get_encoder(vocab_inp_size, embedding_dim, units, BATCH_SIZE)\n",
        "decoder = get_decoder(vocab_tar_size, embedding_dim, units, BATCH_SIZE)"
      ],
      "execution_count": 15,
      "outputs": [
        {
          "output_type": "stream",
          "text": [
            "WARNING:tensorflow:From /usr/local/lib/python3.6/dist-packages/tensorflow/python/ops/embedding_ops.py:132: colocate_with (from tensorflow.python.framework.ops) is deprecated and will be removed in a future version.\n",
            "Instructions for updating:\n",
            "Colocations handled automatically by placer.\n"
          ],
          "name": "stdout"
        }
      ]
    },
    {
      "cell_type": "markdown",
      "metadata": {
        "colab_type": "text",
        "id": "_ch_71VbIRfK"
      },
      "source": [
        "## Define the optimizer and the loss function"
      ]
    },
    {
      "cell_type": "code",
      "metadata": {
        "colab_type": "code",
        "id": "WmTHr5iV3jFr",
        "colab": {}
      },
      "source": [
        "optimizer = tf.train.AdamOptimizer()\n",
        "\n",
        "\n",
        "def loss_function(real, pred):\n",
        "  mask = 1 - np.equal(real, 0)\n",
        "  loss_ = tf.nn.sparse_softmax_cross_entropy_with_logits(labels=real, logits=pred) * mask\n",
        "  return tf.reduce_mean(loss_)"
      ],
      "execution_count": 0,
      "outputs": []
    },
    {
      "cell_type": "markdown",
      "metadata": {
        "colab_type": "text",
        "id": "DMVWzzsfNl4e"
      },
      "source": [
        "## Checkpoints (Object-based saving)"
      ]
    },
    {
      "cell_type": "code",
      "metadata": {
        "colab_type": "code",
        "id": "Zj8bXQTgNwrF",
        "colab": {}
      },
      "source": [
        "checkpoint_dir = './training_checkpoints'\n",
        "checkpoint_prefix = os.path.join(checkpoint_dir, \"ckpt\")\n",
        "checkpoint = tf.train.Checkpoint(optimizer=optimizer,\n",
        "                                 encoder=encoder,\n",
        "                                 decoder=decoder)"
      ],
      "execution_count": 0,
      "outputs": []
    },
    {
      "cell_type": "markdown",
      "metadata": {
        "colab_type": "text",
        "id": "hpObfY22IddU"
      },
      "source": [
        "## Training\n",
        "\n",
        "1. Pass the *input* through the *encoder* which return *encoder output* and the *encoder hidden state*.\n",
        "2. The encoder output, encoder hidden state and the decoder input (which is the *start token*) is passed to the decoder.\n",
        "3. The decoder returns the *predictions* and the *decoder hidden state*.\n",
        "4. The decoder hidden state is then passed back into the model and the predictions are used to calculate the loss.\n",
        "5. Use *teacher forcing* to decide the next input to the decoder.\n",
        "6. *Teacher forcing* is the technique where the *target word* is passed as the *next input* to the decoder.\n",
        "7. The final step is to calculate the gradients and apply it to the optimizer and backpropagate."
      ]
    },
    {
      "cell_type": "code",
      "metadata": {
        "id": "DlJiFNj-3tPV",
        "colab_type": "code",
        "outputId": "14924f1a-4e6e-4fc6-bdfa-3c8aa0fb72f5",
        "colab": {
          "base_uri": "https://localhost:8080/",
          "height": 2638
        }
      },
      "source": [
        "EPOCHS = 30\n",
        "\n",
        "for epoch in range(EPOCHS):\n",
        "    start = time.time()\n",
        "    \n",
        "    total_loss = 0\n",
        "    \n",
        "    for (batch, (inp, targ)) in enumerate(dataset):\n",
        "        loss = 0\n",
        "        with tf.GradientTape() as tape:\n",
        "            enc_output, enc_hidden = encoder(inp)\n",
        "            #print(tf.reduce_sum(enc_output))\n",
        "            dec_hidden = enc_hidden\n",
        "            \n",
        "            dec_input = tf.expand_dims([targ_lang.word2idx['<start>']] * BATCH_SIZE, 1)       \n",
        "            # Teacher forcing - feeding the target as the next input\n",
        "            for t in range(1, targ.shape[1]):\n",
        "                # passing enc_output to the decoder\n",
        "                #print(dec_input.shape, dec_hidden.shape, enc_output.shape)\n",
        "                predictions = decoder([dec_input, dec_hidden, enc_output])\n",
        "                loss += loss_function(targ[:, t], predictions)\n",
        "                \n",
        "                \n",
        "                # using teacher forcing\n",
        "                dec_input = tf.expand_dims(targ[:, t], 1)\n",
        "        \n",
        "        batch_loss = (loss / int(targ.shape[1]))\n",
        "        \n",
        "        total_loss += batch_loss\n",
        "        \n",
        "        variables = encoder.variables + decoder.variables\n",
        "        \n",
        "        gradients = tape.gradient(loss, variables)\n",
        "        \n",
        "        optimizer.apply_gradients(zip(gradients, variables))\n",
        "        \n",
        "        if batch % 100 == 0:\n",
        "            print('Epoch {} Batch {} Loss {:.4f}'.format(epoch + 1,\n",
        "                                                         batch,\n",
        "                                                         batch_loss.numpy()))\n",
        "    # saving (checkpoint) the model every 2 epochs\n",
        "    if (epoch + 1) % 2 == 0:\n",
        "      checkpoint.save(file_prefix = checkpoint_prefix)\n",
        "    \n",
        "    print('Epoch {} Loss {:.4f}'.format(epoch + 1,\n",
        "                                        total_loss / N_BATCH))\n",
        "    print('Time taken for 1 epoch {} sec\\n'.format(time.time() - start))"
      ],
      "execution_count": 18,
      "outputs": [
        {
          "output_type": "stream",
          "text": [
            "WARNING:tensorflow:From /usr/local/lib/python3.6/dist-packages/tensorflow/python/ops/math_grad.py:102: div (from tensorflow.python.ops.math_ops) is deprecated and will be removed in a future version.\n",
            "Instructions for updating:\n",
            "Deprecated in favor of operator or tf.math.divide.\n",
            "Epoch 1 Batch 0 Loss 1.5737\n",
            "Epoch 1 Batch 100 Loss 0.9952\n",
            "Epoch 1 Loss 1.0801\n",
            "Time taken for 1 epoch 184.59089255332947 sec\n",
            "\n",
            "Epoch 2 Batch 0 Loss 0.9520\n",
            "Epoch 2 Batch 100 Loss 0.9073\n",
            "Epoch 2 Loss 0.9059\n",
            "Time taken for 1 epoch 185.6432590484619 sec\n",
            "\n",
            "Epoch 3 Batch 0 Loss 0.8685\n",
            "Epoch 3 Batch 100 Loss 0.8189\n",
            "Epoch 3 Loss 0.8228\n",
            "Time taken for 1 epoch 184.95331001281738 sec\n",
            "\n",
            "Epoch 4 Batch 0 Loss 0.7762\n",
            "Epoch 4 Batch 100 Loss 0.7495\n",
            "Epoch 4 Loss 0.7631\n",
            "Time taken for 1 epoch 184.47491669654846 sec\n",
            "\n",
            "Epoch 5 Batch 0 Loss 0.7334\n",
            "Epoch 5 Batch 100 Loss 0.7252\n",
            "Epoch 5 Loss 0.7156\n",
            "Time taken for 1 epoch 183.40274953842163 sec\n",
            "\n",
            "Epoch 6 Batch 0 Loss 0.6917\n",
            "Epoch 6 Batch 100 Loss 0.7698\n",
            "Epoch 6 Loss 0.6743\n",
            "Time taken for 1 epoch 185.21108555793762 sec\n",
            "\n",
            "Epoch 7 Batch 0 Loss 0.6076\n",
            "Epoch 7 Batch 100 Loss 0.7121\n",
            "Epoch 7 Loss 0.6360\n",
            "Time taken for 1 epoch 183.29096484184265 sec\n",
            "\n",
            "Epoch 8 Batch 0 Loss 0.6804\n",
            "Epoch 8 Batch 100 Loss 0.5700\n",
            "Epoch 8 Loss 0.5996\n",
            "Time taken for 1 epoch 183.7897927761078 sec\n",
            "\n",
            "Epoch 9 Batch 0 Loss 0.6281\n",
            "Epoch 9 Batch 100 Loss 0.5707\n",
            "Epoch 9 Loss 0.5638\n",
            "Time taken for 1 epoch 183.74300241470337 sec\n",
            "\n",
            "Epoch 10 Batch 0 Loss 0.5120\n",
            "Epoch 10 Batch 100 Loss 0.5701\n",
            "Epoch 10 Loss 0.5279\n",
            "Time taken for 1 epoch 183.26960945129395 sec\n",
            "\n",
            "Epoch 11 Batch 0 Loss 0.5019\n",
            "Epoch 11 Batch 100 Loss 0.4268\n",
            "Epoch 11 Loss 0.4933\n",
            "Time taken for 1 epoch 183.0635199546814 sec\n",
            "\n",
            "Epoch 12 Batch 0 Loss 0.4919\n",
            "Epoch 12 Batch 100 Loss 0.4477\n",
            "Epoch 12 Loss 0.4590\n",
            "Time taken for 1 epoch 182.36777782440186 sec\n",
            "\n",
            "Epoch 13 Batch 0 Loss 0.3958\n",
            "Epoch 13 Batch 100 Loss 0.4551\n",
            "Epoch 13 Loss 0.4253\n",
            "Time taken for 1 epoch 184.3013105392456 sec\n",
            "\n",
            "Epoch 14 Batch 0 Loss 0.3796\n",
            "Epoch 14 Batch 100 Loss 0.3660\n",
            "Epoch 14 Loss 0.3935\n",
            "Time taken for 1 epoch 183.02555990219116 sec\n",
            "\n",
            "Epoch 15 Batch 0 Loss 0.3373\n",
            "Epoch 15 Batch 100 Loss 0.3465\n",
            "Epoch 15 Loss 0.3624\n",
            "Time taken for 1 epoch 180.61645650863647 sec\n",
            "\n",
            "Epoch 16 Batch 0 Loss 0.2803\n",
            "Epoch 16 Batch 100 Loss 0.3393\n",
            "Epoch 16 Loss 0.3323\n",
            "Time taken for 1 epoch 181.69418787956238 sec\n",
            "\n",
            "Epoch 17 Batch 0 Loss 0.3148\n",
            "Epoch 17 Batch 100 Loss 0.2400\n",
            "Epoch 17 Loss 0.3031\n",
            "Time taken for 1 epoch 182.0835063457489 sec\n",
            "\n",
            "Epoch 18 Batch 0 Loss 0.2892\n",
            "Epoch 18 Batch 100 Loss 0.2624\n",
            "Epoch 18 Loss 0.2753\n",
            "Time taken for 1 epoch 182.76570463180542 sec\n",
            "\n",
            "Epoch 19 Batch 0 Loss 0.2201\n",
            "Epoch 19 Batch 100 Loss 0.2476\n",
            "Epoch 19 Loss 0.2500\n",
            "Time taken for 1 epoch 182.3220407962799 sec\n",
            "\n",
            "Epoch 20 Batch 0 Loss 0.2662\n",
            "Epoch 20 Batch 100 Loss 0.2456\n",
            "Epoch 20 Loss 0.2258\n",
            "Time taken for 1 epoch 181.4635727405548 sec\n",
            "\n",
            "Epoch 21 Batch 0 Loss 0.1932\n",
            "Epoch 21 Batch 100 Loss 0.2100\n",
            "Epoch 21 Loss 0.2031\n",
            "Time taken for 1 epoch 183.69462966918945 sec\n",
            "\n",
            "Epoch 22 Batch 0 Loss 0.1938\n",
            "Epoch 22 Batch 100 Loss 0.2069\n",
            "Epoch 22 Loss 0.1826\n",
            "Time taken for 1 epoch 181.63858151435852 sec\n",
            "\n",
            "Epoch 23 Batch 0 Loss 0.1478\n",
            "Epoch 23 Batch 100 Loss 0.1644\n",
            "Epoch 23 Loss 0.1639\n",
            "Time taken for 1 epoch 182.15275311470032 sec\n",
            "\n",
            "Epoch 24 Batch 0 Loss 0.1215\n",
            "Epoch 24 Batch 100 Loss 0.1390\n",
            "Epoch 24 Loss 0.1460\n",
            "Time taken for 1 epoch 181.0750732421875 sec\n",
            "\n",
            "Epoch 25 Batch 0 Loss 0.1328\n",
            "Epoch 25 Batch 100 Loss 0.1351\n",
            "Epoch 25 Loss 0.1296\n",
            "Time taken for 1 epoch 183.3895823955536 sec\n",
            "\n",
            "Epoch 26 Batch 0 Loss 0.1455\n",
            "Epoch 26 Batch 100 Loss 0.0939\n",
            "Epoch 26 Loss 0.1151\n",
            "Time taken for 1 epoch 182.7859992980957 sec\n",
            "\n",
            "Epoch 27 Batch 0 Loss 0.0952\n",
            "Epoch 27 Batch 100 Loss 0.1030\n",
            "Epoch 27 Loss 0.1019\n",
            "Time taken for 1 epoch 181.32154488563538 sec\n",
            "\n",
            "Epoch 28 Batch 0 Loss 0.0853\n",
            "Epoch 28 Batch 100 Loss 0.0747\n",
            "Epoch 28 Loss 0.0903\n",
            "Time taken for 1 epoch 185.0141680240631 sec\n",
            "\n",
            "Epoch 29 Batch 0 Loss 0.0848\n",
            "Epoch 29 Batch 100 Loss 0.0685\n",
            "Epoch 29 Loss 0.0799\n",
            "Time taken for 1 epoch 180.88364839553833 sec\n",
            "\n",
            "Epoch 30 Batch 0 Loss 0.0672\n",
            "Epoch 30 Batch 100 Loss 0.0570\n",
            "Epoch 30 Loss 0.0708\n",
            "Time taken for 1 epoch 183.36261177062988 sec\n",
            "\n"
          ],
          "name": "stdout"
        }
      ]
    },
    {
      "cell_type": "markdown",
      "metadata": {
        "colab_type": "text",
        "id": "mU3Ce8M6I3rz"
      },
      "source": [
        "## Translate\n",
        "\n",
        "* The evaluate function is similar to the training loop, except we don't use *teacher forcing* here. The input to the decoder at each time step is its previous predictions along with the hidden state and the encoder output.\n",
        "* Stop predicting when the model predicts the *end token*.\n",
        "* And store the *attention weights for every time step*.\n",
        "\n",
        "Note: The encoder output is calculated only once for one input."
      ]
    },
    {
      "cell_type": "code",
      "metadata": {
        "colab_type": "code",
        "id": "UJpT9D5_OgP6",
        "outputId": "bf5be8e9-e4c3-4578-f0e2-32ff8d77e5bc",
        "colab": {
          "base_uri": "https://localhost:8080/",
          "height": 34
        }
      },
      "source": [
        "# restoring the latest checkpoint in checkpoint_dir\n",
        "checkpoint.restore(tf.train.latest_checkpoint(checkpoint_dir))"
      ],
      "execution_count": 35,
      "outputs": [
        {
          "output_type": "execute_result",
          "data": {
            "text/plain": [
              "<tensorflow.python.training.checkpointable.util.CheckpointLoadStatus at 0x7f2f8070bbe0>"
            ]
          },
          "metadata": {
            "tags": []
          },
          "execution_count": 35
        }
      ]
    },
    {
      "cell_type": "code",
      "metadata": {
        "colab_type": "code",
        "id": "EbQpyYs13jF_",
        "colab": {}
      },
      "source": [
        "def evaluate(sentence, encoder, decoder, inp_lang, targ_lang, max_length_inp, max_length_targ):\n",
        "    \n",
        "    sentence = preprocess_sentence(sentence)\n",
        "\n",
        "    inputs = [inp_lang.word2idx[i] for i in sentence.split(' ')]\n",
        "    inputs = tf.keras.preprocessing.sequence.pad_sequences([inputs], maxlen=max_length_inp, padding='post')\n",
        "    inputs = tf.convert_to_tensor(inputs)\n",
        "    result = ''\n",
        "\n",
        "    enc_out, enc_hidden = encoder(inputs)\n",
        "    dec_hidden = enc_hidden\n",
        "    dec_input = tf.expand_dims([targ_lang.word2idx['<start>']], 0)\n",
        "    \n",
        "    for t in range(max_length_targ):\n",
        "        \n",
        "        \n",
        "        predictions = decoder([dec_input, dec_hidden, enc_out])\n",
        "        \n",
        "\n",
        "        predicted_id = tf.argmax(predictions[0]).numpy()\n",
        "\n",
        "        result += targ_lang.idx2word[predicted_id] + ' '\n",
        "\n",
        "        if targ_lang.idx2word[predicted_id] == '<end>':\n",
        "            return result, sentence\n",
        "        \n",
        "        # the predicted ID is fed back into the model\n",
        "        dec_input = tf.expand_dims([predicted_id], 0)\n",
        "\n",
        "    return result, sentence"
      ],
      "execution_count": 0,
      "outputs": []
    },
    {
      "cell_type": "code",
      "metadata": {
        "colab_type": "code",
        "id": "sl9zUHzg3jGI",
        "colab": {}
      },
      "source": [
        "def translate(sentence, encoder, decoder, inp_lang, targ_lang, max_length_inp, max_length_targ):\n",
        "    result, sentence = evaluate(sentence, encoder, decoder, inp_lang, targ_lang, max_length_inp, max_length_targ)\n",
        "        \n",
        "    print('Input: {}'.format(sentence))\n",
        "    print('Predicted translation: {}'.format(result))"
      ],
      "execution_count": 0,
      "outputs": []
    },
    {
      "cell_type": "markdown",
      "metadata": {
        "colab_type": "text",
        "id": "n250XbnjOaqP"
      },
      "source": [
        "## Restore the latest checkpoint and test"
      ]
    },
    {
      "cell_type": "code",
      "metadata": {
        "colab_type": "code",
        "id": "WrAM0FDomq3E",
        "outputId": "437ca6da-580c-48f8-844c-aa670cf86b34",
        "colab": {
          "base_uri": "https://localhost:8080/",
          "height": 51
        }
      },
      "source": [
        "translate(u'اين انت ؟', encoder, decoder, inp_lang, targ_lang, max_length_inp, max_length_targ)"
      ],
      "execution_count": 70,
      "outputs": [
        {
          "output_type": "stream",
          "text": [
            "Input: <start> اين انت ؟ <end>\n",
            "Predicted translation: where are you ? <end> \n"
          ],
          "name": "stdout"
        }
      ]
    },
    {
      "cell_type": "code",
      "metadata": {
        "colab_type": "code",
        "id": "A3LLCx3ZE0Ls",
        "outputId": "c0598bcf-c40f-4aa8-bd67-baede408fc37",
        "colab": {
          "base_uri": "https://localhost:8080/",
          "height": 51
        }
      },
      "source": [
        "translate(u'من أين أنت', encoder, decoder, inp_lang, targ_lang, max_length_inp, max_length_targ)"
      ],
      "execution_count": 71,
      "outputs": [
        {
          "output_type": "stream",
          "text": [
            "Input: <start> من اين انت <end>\n",
            "Predicted translation: where are you going ? <end> \n"
          ],
          "name": "stdout"
        }
      ]
    },
    {
      "cell_type": "code",
      "metadata": {
        "colab_type": "code",
        "id": "DUQVLVqUE1YW",
        "outputId": "63c45204-1770-425a-e67d-025d1b98677d",
        "colab": {
          "base_uri": "https://localhost:8080/",
          "height": 51
        }
      },
      "source": [
        "# wrong translation\n",
        "translate(u'اهلا', encoder, decoder, inp_lang, targ_lang, max_length_inp, max_length_targ)"
      ],
      "execution_count": 72,
      "outputs": [
        {
          "output_type": "stream",
          "text": [
            "Input: <start> اهلا <end>\n",
            "Predicted translation: don't worry . <end> \n"
          ],
          "name": "stdout"
        }
      ]
    },
    {
      "cell_type": "code",
      "metadata": {
        "id": "2t2eH7mftAwE",
        "colab_type": "code",
        "outputId": "b6807441-b2ed-4f30-d6a8-a8bc63e2a1ec",
        "colab": {
          "base_uri": "https://localhost:8080/",
          "height": 51
        }
      },
      "source": [
        "translate(u'اذهب إلى المدرسة', encoder, decoder, inp_lang, targ_lang, max_length_inp, max_length_targ)"
      ],
      "execution_count": 73,
      "outputs": [
        {
          "output_type": "stream",
          "text": [
            "Input: <start> اذهب الى المدرسة <end>\n",
            "Predicted translation: i go to school . <end> \n"
          ],
          "name": "stdout"
        }
      ]
    },
    {
      "cell_type": "code",
      "metadata": {
        "id": "u_1UEI8RggFT",
        "colab_type": "code",
        "outputId": "021134c3-3019-4770-c230-7c882b78ecf2",
        "colab": {
          "base_uri": "https://localhost:8080/",
          "height": 51
        }
      },
      "source": [
        "translate(u'اصمت', encoder, decoder, inp_lang, targ_lang, max_length_inp, max_length_targ)"
      ],
      "execution_count": 74,
      "outputs": [
        {
          "output_type": "stream",
          "text": [
            "Input: <start> اصمت <end>\n",
            "Predicted translation: shut up ! <end> \n"
          ],
          "name": "stdout"
        }
      ]
    },
    {
      "cell_type": "code",
      "metadata": {
        "id": "d7NcBFGOyEO9",
        "colab_type": "code",
        "outputId": "1af98bbb-a01b-4dd6-ac8d-a739a69ddfb4",
        "colab": {
          "base_uri": "https://localhost:8080/",
          "height": 51
        }
      },
      "source": [
        "translate(u'اخرج من هنا', encoder, decoder, inp_lang, targ_lang, max_length_inp, max_length_targ)"
      ],
      "execution_count": 75,
      "outputs": [
        {
          "output_type": "stream",
          "text": [
            "Input: <start> اخرج من هنا <end>\n",
            "Predicted translation: get out of here ? <end> \n"
          ],
          "name": "stdout"
        }
      ]
    },
    {
      "cell_type": "code",
      "metadata": {
        "id": "wsXaBkM6vlWE",
        "colab_type": "code",
        "colab": {
          "base_uri": "https://localhost:8080/",
          "height": 51
        },
        "outputId": "b15de327-183e-4c51-86f3-81f4172a590c"
      },
      "source": [
        "translate(u'هل ستذهب الى المسجد', encoder, decoder, inp_lang, targ_lang, max_length_inp, max_length_targ)"
      ],
      "execution_count": 76,
      "outputs": [
        {
          "output_type": "stream",
          "text": [
            "Input: <start> هل ستذهب الى المسجد <end>\n",
            "Predicted translation: will you go to america ? <end> \n"
          ],
          "name": "stdout"
        }
      ]
    },
    {
      "cell_type": "code",
      "metadata": {
        "id": "qu9aXHWswKq4",
        "colab_type": "code",
        "colab": {
          "base_uri": "https://localhost:8080/",
          "height": 51
        },
        "outputId": "93e192f9-79cb-4b15-93c5-462e5d316fde"
      },
      "source": [
        "translate(u'الهزيمة كانت قاسية', encoder, decoder, inp_lang, targ_lang, max_length_inp, max_length_targ)"
      ],
      "execution_count": 77,
      "outputs": [
        {
          "output_type": "stream",
          "text": [
            "Input: <start> الهزيمة كانت قاسية <end>\n",
            "Predicted translation: what was your car ? <end> \n"
          ],
          "name": "stdout"
        }
      ]
    },
    {
      "cell_type": "code",
      "metadata": {
        "id": "P-j8EAbUZuNB",
        "colab_type": "code",
        "colab": {
          "base_uri": "https://localhost:8080/",
          "height": 51
        },
        "outputId": "3f537a55-49bc-4d64-c12c-876bbf7d6db5"
      },
      "source": [
        "translate(u'اركض', encoder, decoder, inp_lang, targ_lang, max_length_inp, max_length_targ)"
      ],
      "execution_count": 78,
      "outputs": [
        {
          "output_type": "stream",
          "text": [
            "Input: <start> اركض <end>\n",
            "Predicted translation: i turned down . <end> \n"
          ],
          "name": "stdout"
        }
      ]
    },
    {
      "cell_type": "markdown",
      "metadata": {
        "id": "k_2ri_8YkHkC",
        "colab_type": "text"
      },
      "source": [
        "##  Save the models and the dictionaries"
      ]
    },
    {
      "cell_type": "code",
      "metadata": {
        "id": "D50XopjL58dK",
        "colab_type": "code",
        "colab": {}
      },
      "source": [
        "encoder.save('encoder.h5')\n",
        "decoder.save('decoder.h5')"
      ],
      "execution_count": 0,
      "outputs": []
    },
    {
      "cell_type": "code",
      "metadata": {
        "id": "dhMS41lg2wZ3",
        "colab_type": "code",
        "colab": {}
      },
      "source": [
        "import csv\n",
        "def create_csv(file, dict):\n",
        "    with open(file, 'w') as csvfile:\n",
        "        writer = csv.writer(csvfile)\n",
        "        for key in dict.keys():\n",
        "            writer.writerow([key,dict[key]])"
      ],
      "execution_count": 0,
      "outputs": []
    },
    {
      "cell_type": "code",
      "metadata": {
        "id": "FgUfEYBl2-Ac",
        "colab_type": "code",
        "colab": {}
      },
      "source": [
        "create_csv('idx2word.csv', targ_lang.idx2word)\n",
        "create_csv('word2idx.csv', inp_lang.word2idx)"
      ],
      "execution_count": 0,
      "outputs": []
    }
  ]
}