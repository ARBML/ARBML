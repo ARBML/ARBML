{
 "cells": [
  {
   "cell_type": "code",
   "execution_count": 1,
   "metadata": {
    "colab": {
     "base_uri": "https://localhost:8080/",
     "height": 391
    },
    "colab_type": "code",
    "id": "OSkKj2jfRpOB",
    "outputId": "c7eff17b-d5c3-4346-b1e2-4212b64a26d8"
   },
   "outputs": [
    {
     "name": "stdout",
     "output_type": "stream",
     "text": [
      "--2019-05-28 02:32:16--  https://raw.githubusercontent.com/zaidalyafeai/ARBML/master/datasets/Letters/test-ubyte.npz\n",
      "Resolving raw.githubusercontent.com (raw.githubusercontent.com)... 151.101.0.133, 151.101.64.133, 151.101.128.133, ...\n",
      "Connecting to raw.githubusercontent.com (raw.githubusercontent.com)|151.101.0.133|:443... connected.\n",
      "HTTP request sent, awaiting response... 200 OK\n",
      "Length: 474740 (464K) [application/octet-stream]\n",
      "Saving to: ‘test-ubyte.npz’\n",
      "\n",
      "\r",
      "test-ubyte.npz        0%[                    ]       0  --.-KB/s               \r",
      "test-ubyte.npz      100%[===================>] 463.61K  --.-KB/s    in 0.02s   \n",
      "\n",
      "2019-05-28 02:32:16 (22.9 MB/s) - ‘test-ubyte.npz’ saved [474740/474740]\n",
      "\n",
      "--2019-05-28 02:32:18--  https://raw.githubusercontent.com/zaidalyafeai/ARBML/master/datasets/Letters/train-ubyte.npz\n",
      "Resolving raw.githubusercontent.com (raw.githubusercontent.com)... 151.101.0.133, 151.101.64.133, 151.101.128.133, ...\n",
      "Connecting to raw.githubusercontent.com (raw.githubusercontent.com)|151.101.0.133|:443... connected.\n",
      "HTTP request sent, awaiting response... 200 OK\n",
      "Length: 1891516 (1.8M) [application/octet-stream]\n",
      "Saving to: ‘train-ubyte.npz’\n",
      "\n",
      "train-ubyte.npz     100%[===================>]   1.80M  --.-KB/s    in 0.03s   \n",
      "\n",
      "2019-05-28 02:32:19 (55.8 MB/s) - ‘train-ubyte.npz’ saved [1891516/1891516]\n",
      "\n"
     ]
    }
   ],
   "source": [
    "#first download the datasets. The binaries were created from https://www.kaggle.com/mloey1/ahdd1\n",
    "!wget https://raw.githubusercontent.com/zaidalyafeai/ARBML/master/datasets/Letters/test-ubyte.npz\n",
    "!wget https://raw.githubusercontent.com/zaidalyafeai/ARBML/master/datasets/Letters/train-ubyte.npz"
   ]
  },
  {
   "cell_type": "markdown",
   "metadata": {
    "colab_type": "text",
    "id": "uEdnbBVXAI-X"
   },
   "source": [
    "# Imports "
   ]
  },
  {
   "cell_type": "code",
   "execution_count": 0,
   "metadata": {
    "colab": {},
    "colab_type": "code",
    "id": "J2FYrPgOKh6t"
   },
   "outputs": [],
   "source": [
    "import os\n",
    "import glob\n",
    "import numpy as np\n",
    "from tensorflow.keras import layers\n",
    "from tensorflow import keras \n",
    "import tensorflow as tf"
   ]
  },
  {
   "cell_type": "markdown",
   "metadata": {
    "colab_type": "text",
    "id": "6o30ipBPAQ5Y"
   },
   "source": [
    "# Load the Data "
   ]
  },
  {
   "cell_type": "code",
   "execution_count": 3,
   "metadata": {
    "colab": {
     "base_uri": "https://localhost:8080/",
     "height": 51
    },
    "colab_type": "code",
    "id": "1_1ui3gwcDNU",
    "outputId": "c710d371-4e8a-4ec9-c954-7ca1d93a484d"
   },
   "outputs": [
    {
     "name": "stdout",
     "output_type": "stream",
     "text": [
      "training  (13439, 1024)\n",
      "testing  (3359, 1024)\n"
     ]
    }
   ],
   "source": [
    "x_train, y_train = np.load('train-ubyte.npz')['x'], np.load('train-ubyte.npz')['y']\n",
    "x_test, y_test = np.load('test-ubyte.npz')['x'], np.load('test-ubyte.npz')['y']\n",
    "\n",
    "print('training ', x_train.shape)\n",
    "print('testing ', x_test.shape)"
   ]
  },
  {
   "cell_type": "markdown",
   "metadata": {
    "colab_type": "text",
    "id": "n8InHz5NBFrV"
   },
   "source": [
    "# Preprocess the Data "
   ]
  },
  {
   "cell_type": "code",
   "execution_count": 0,
   "metadata": {
    "colab": {},
    "colab_type": "code",
    "id": "p2GHUq7D2r9e"
   },
   "outputs": [],
   "source": [
    "# Reshape and normalize\n",
    "x_train = x_train.reshape(x_train.shape[0], 32, 32, 1).astype('float32')\n",
    "x_test = x_test.reshape(x_test.shape[0], 32, 32, 1).astype('float32')\n",
    "\n",
    "x_train /= 255.0\n",
    "x_test /= 255.0"
   ]
  },
  {
   "cell_type": "markdown",
   "metadata": {
    "colab_type": "text",
    "id": "rL6XAb4hBMSc"
   },
   "source": [
    "# The Model "
   ]
  },
  {
   "cell_type": "code",
   "execution_count": 5,
   "metadata": {
    "colab": {
     "base_uri": "https://localhost:8080/",
     "height": 615
    },
    "colab_type": "code",
    "id": "uYUVV2wf2z8H",
    "outputId": "ccae7008-e74d-459a-affe-23a3db8ae849"
   },
   "outputs": [
    {
     "name": "stdout",
     "output_type": "stream",
     "text": [
      "WARNING:tensorflow:From /usr/local/lib/python3.6/dist-packages/tensorflow/python/ops/resource_variable_ops.py:435: colocate_with (from tensorflow.python.framework.ops) is deprecated and will be removed in a future version.\n",
      "Instructions for updating:\n",
      "Colocations handled automatically by placer.\n",
      "WARNING:tensorflow:From /usr/local/lib/python3.6/dist-packages/tensorflow/python/keras/layers/core.py:143: calling dropout (from tensorflow.python.ops.nn_ops) with keep_prob is deprecated and will be removed in a future version.\n",
      "Instructions for updating:\n",
      "Please use `rate` instead of `keep_prob`. Rate should be set to `rate = 1 - keep_prob`.\n",
      "_________________________________________________________________\n",
      "Layer (type)                 Output Shape              Param #   \n",
      "=================================================================\n",
      "conv2d (Conv2D)              (None, 32, 32, 32)        320       \n",
      "_________________________________________________________________\n",
      "max_pooling2d (MaxPooling2D) (None, 16, 16, 32)        0         \n",
      "_________________________________________________________________\n",
      "conv2d_1 (Conv2D)            (None, 16, 16, 64)        18496     \n",
      "_________________________________________________________________\n",
      "max_pooling2d_1 (MaxPooling2 (None, 8, 8, 64)          0         \n",
      "_________________________________________________________________\n",
      "conv2d_2 (Conv2D)            (None, 8, 8, 128)         73856     \n",
      "_________________________________________________________________\n",
      "max_pooling2d_2 (MaxPooling2 (None, 4, 4, 128)         0         \n",
      "_________________________________________________________________\n",
      "flatten (Flatten)            (None, 2048)              0         \n",
      "_________________________________________________________________\n",
      "dense (Dense)                (None, 128)               262272    \n",
      "_________________________________________________________________\n",
      "dropout (Dropout)            (None, 128)               0         \n",
      "_________________________________________________________________\n",
      "dense_1 (Dense)              (None, 28)                3612      \n",
      "=================================================================\n",
      "Total params: 358,556\n",
      "Trainable params: 358,556\n",
      "Non-trainable params: 0\n",
      "_________________________________________________________________\n",
      "None\n"
     ]
    }
   ],
   "source": [
    "# Define model\n",
    "model = keras.Sequential()\n",
    "model.add(layers.Convolution2D(32, (3, 3),\n",
    "                        padding='same',\n",
    "                        input_shape=x_train.shape[1:], activation='relu'))\n",
    "model.add(layers.MaxPooling2D(pool_size=(2, 2)))\n",
    "model.add(layers.Convolution2D(64, (3, 3), padding='same', activation= 'relu'))\n",
    "model.add(layers.MaxPooling2D(pool_size=(2, 2)))\n",
    "model.add(layers.Convolution2D(128, (3, 3), padding='same', activation= 'relu'))\n",
    "model.add(layers.MaxPooling2D(pool_size =(2,2)))\n",
    "model.add(layers.Flatten())\n",
    "model.add(layers.Dense(128, activation='relu'))\n",
    "model.add(layers.Dropout(0.5))\n",
    "model.add(layers.Dense(28, activation='softmax')) \n",
    "# Train model\n",
    "adam = tf.train.AdamOptimizer()\n",
    "model.compile(loss='sparse_categorical_crossentropy',\n",
    "              optimizer=adam,\n",
    "              metrics=['accuracy'])\n",
    "print(model.summary())"
   ]
  },
  {
   "cell_type": "markdown",
   "metadata": {
    "colab_type": "text",
    "id": "_YRSRkOyBP1P"
   },
   "source": [
    "# Training "
   ]
  },
  {
   "cell_type": "code",
   "execution_count": 7,
   "metadata": {
    "colab": {
     "base_uri": "https://localhost:8080/",
     "height": 221
    },
    "colab_type": "code",
    "id": "7OMEJ7kF3lsP",
    "outputId": "65dcca91-cdf4-41ee-e5cf-8344f43e70fc"
   },
   "outputs": [
    {
     "name": "stdout",
     "output_type": "stream",
     "text": [
      "Train on 12095 samples, validate on 1344 samples\n",
      "Epoch 1/5\n",
      "12095/12095 [==============================] - 2s 128us/sample - loss: 0.2942 - acc: 0.8995 - val_loss: 0.2072 - val_acc: 0.9315\n",
      "Epoch 2/5\n",
      "12095/12095 [==============================] - 1s 117us/sample - loss: 0.2569 - acc: 0.9124 - val_loss: 0.1814 - val_acc: 0.9397\n",
      "Epoch 3/5\n",
      "12095/12095 [==============================] - 1s 110us/sample - loss: 0.2181 - acc: 0.9271 - val_loss: 0.1692 - val_acc: 0.9501\n",
      "Epoch 4/5\n",
      "12095/12095 [==============================] - 1s 110us/sample - loss: 0.1974 - acc: 0.9327 - val_loss: 0.1637 - val_acc: 0.9457\n",
      "Epoch 5/5\n",
      "12095/12095 [==============================] - 1s 110us/sample - loss: 0.1804 - acc: 0.9394 - val_loss: 0.1426 - val_acc: 0.9546\n"
     ]
    },
    {
     "data": {
      "text/plain": [
       "<tensorflow.python.keras.callbacks.History at 0x7f1a1b894be0>"
      ]
     },
     "execution_count": 7,
     "metadata": {
      "tags": []
     },
     "output_type": "execute_result"
    }
   ],
   "source": [
    "model.fit(x_train, y_train, validation_split= 0.1, epochs=10)"
   ]
  },
  {
   "cell_type": "markdown",
   "metadata": {
    "colab_type": "text",
    "id": "d2KztY7qEn9_"
   },
   "source": [
    "# Testing "
   ]
  },
  {
   "cell_type": "code",
   "execution_count": 8,
   "metadata": {
    "colab": {
     "base_uri": "https://localhost:8080/",
     "height": 34
    },
    "colab_type": "code",
    "id": "ssaZczS7DxeA",
    "outputId": "17c04370-c141-4d85-d8c0-3afac6afd9a4"
   },
   "outputs": [
    {
     "name": "stdout",
     "output_type": "stream",
     "text": [
      "Test accuarcy: 95.50%\n"
     ]
    }
   ],
   "source": [
    "score = model.evaluate(x_test, y_test, verbose=0)\n",
    "print('Test accuarcy: {:0.2f}%'.format(score[1] * 100))"
   ]
  },
  {
   "cell_type": "code",
   "execution_count": 9,
   "metadata": {
    "colab": {
     "base_uri": "https://localhost:8080/",
     "height": 34
    },
    "colab_type": "code",
    "id": "8h4xAloe8eZK",
    "outputId": "c556b683-7775-4039-ff83-b9192619e184"
   },
   "outputs": [
    {
     "name": "stdout",
     "output_type": "stream",
     "text": [
      "28\n"
     ]
    }
   ],
   "source": [
    "class_names = ['أ', 'ب', 'ت', 'ث', 'ج', 'ح', 'خ', 'د', 'ذ', 'ر', 'ز', 'س', 'ش', 'ص', 'ض', 'ط', 'ظ', 'ع', 'غ','ق','ف', 'ك', 'ل', 'م', 'ن', 'ه', 'و', 'ي']\n",
    "print(len(class_names))"
   ]
  },
  {
   "cell_type": "markdown",
   "metadata": {
    "colab_type": "text",
    "id": "9xBM_w0VBbNr"
   },
   "source": [
    "# Inference "
   ]
  },
  {
   "cell_type": "code",
   "execution_count": 10,
   "metadata": {
    "colab": {
     "base_uri": "https://localhost:8080/",
     "height": 286
    },
    "colab_type": "code",
    "id": "nH3JfoiYHdpk",
    "outputId": "ee7db9b2-24b6-4c31-8f2d-390478e79a55"
   },
   "outputs": [
    {
     "name": "stdout",
     "output_type": "stream",
     "text": [
      "['ح', 'ع', 'ج', 'خ', 'غ']\n"
     ]
    },
    {
     "data": {
      "image/png": "[encoded data removed]",
      "text/plain": [
       "<Figure size 432x288 with 1 Axes>"
      ]
     },
     "metadata": {
      "tags": []
     },
     "output_type": "display_data"
    }
   ],
   "source": [
    "import matplotlib.pyplot as plt\n",
    "from random import randint\n",
    "%matplotlib inline  \n",
    "idx = randint(0, len(x_test))\n",
    "img = x_test[idx]\n",
    "plt.imshow(img.squeeze(), cmap = 'gray') \n",
    "pred = model.predict(np.expand_dims(img, axis=0))[0]\n",
    "ind = (-pred).argsort()[:5]\n",
    "print([class_names[i] for i in ind])"
   ]
  },
  {
   "cell_type": "markdown",
   "metadata": {
    "colab_type": "text",
    "id": "-oBl0ZKVB00d"
   },
   "source": [
    "# Save and Convert "
   ]
  },
  {
   "cell_type": "code",
   "execution_count": 0,
   "metadata": {
    "colab": {
     "base_uri": "https://localhost:8080/",
     "height": 54
    },
    "colab_type": "code",
    "id": "XVICB3TbZGb2",
    "outputId": "d30d73b1-2569-4eb8-b74a-cc91b6ba0033"
   },
   "outputs": [
    {
     "name": "stdout",
     "output_type": "stream",
     "text": [
      "WARNING:tensorflow:TensorFlow optimizers do not make it possible to access optimizer attributes or optimizer state after instantiation. As a result, we cannot save the optimizer as part of the model save file.You will have to compile your model again after loading it. Prefer using a Keras optimizer instead (see keras.io/optimizers).\n"
     ]
    }
   ],
   "source": [
    "model.save('keras.h5')"
   ]
  },
  {
   "cell_type": "markdown",
   "metadata": {
    "colab_type": "text",
    "id": "JKYxE2MEB6LV"
   },
   "source": [
    "# Zip and Download "
   ]
  },
  {
   "cell_type": "code",
   "execution_count": 0,
   "metadata": {
    "colab": {},
    "colab_type": "code",
    "id": "4vfPR03xZZeD"
   },
   "outputs": [],
   "source": [
    "from google.colab import files\n",
    "files.download('keras.h5')"
   ]
  }
 ],
 "metadata": {
  "accelerator": "GPU",
  "colab": {
   "collapsed_sections": [],
   "name": "Arabic Letters Classification.ipynb",
   "provenance": [],
   "version": "0.3.2"
  },
  "kernelspec": {
   "display_name": "Python 3",
   "language": "python",
   "name": "python3"
  },
  "language_info": {
   "codemirror_mode": {
    "name": "ipython",
    "version": 3
   },
   "file_extension": ".py",
   "mimetype": "text/x-python",
   "name": "python",
   "nbconvert_exporter": "python",
   "pygments_lexer": "ipython3",
   "version": "3.6.5"
  }
 },
 "nbformat": 4,
 "nbformat_minor": 1
}
