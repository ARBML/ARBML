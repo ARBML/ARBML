{
  "nbformat": 4,
  "nbformat_minor": 0,
  "metadata": {
    "colab": {
      "name": "Arabic Diactrization.ipynb",
      "version": "0.3.2",
      "provenance": []
    },
    "kernelspec": {
      "name": "python3",
      "display_name": "Python 3"
    },
    "accelerator": "GPU"
  },
  "cells": [
    {
      "cell_type": "code",
      "metadata": {
        "id": "I-QObIv3GNmB",
        "colab_type": "code",
        "colab": {}
      },
      "source": [
        "\"\"\"\n",
        "The MIT License (MIT)\n",
        "\n",
        "Copyright (c) 2017 Shakkala Project\n",
        "\n",
        "Permission is hereby granted, free of charge, to any person obtaining a copy of this software and associated documentation files (the \"Software\"), to deal in the Software without restriction, including without limitation the rights to use, copy, modify, merge, publish, distribute, sublicense, and/or sell copies of the Software, and to permit persons to whom the Software is furnished to do so, subject to the following conditions:\n",
        "\n",
        "The above copyright notice and this permission notice shall be included in all copies or substantial portions of the Software.\n",
        "\"\"\""
      ],
      "execution_count": 0,
      "outputs": []
    },
    {
      "cell_type": "code",
      "metadata": {
        "id": "Mhj36kZ-PVn8",
        "colab_type": "code",
        "outputId": "e09408fb-57d5-4f9f-b1a1-bdc93f3cb8e7",
        "colab": {
          "base_uri": "https://localhost:8080/",
          "height": 153
        }
      },
      "source": [
        "!git clone https://github.com/Barqawiz/Shakkala\n",
        "%cd Shakkala/"
      ],
      "execution_count": 1,
      "outputs": [
        {
          "output_type": "stream",
          "text": [
            "Cloning into 'Shakkala'...\n",
            "remote: Enumerating objects: 27, done.\u001b[K\n",
            "remote: Counting objects: 100% (27/27), done.\u001b[K\n",
            "remote: Compressing objects: 100% (21/21), done.\u001b[K\n",
            "remote: Total 554 (delta 10), reused 13 (delta 4), pack-reused 527\u001b[K\n",
            "Receiving objects: 100% (554/554), 312.19 MiB | 33.88 MiB/s, done.\n",
            "Resolving deltas: 100% (129/129), done.\n",
            "/content/Shakkala\n"
          ],
          "name": "stdout"
        }
      ]
    },
    {
      "cell_type": "code",
      "metadata": {
        "id": "ASiIx8dGQoiz",
        "colab_type": "code",
        "outputId": "eada3506-21d6-44d9-8efb-7cddcdb7b9ef",
        "colab": {
          "base_uri": "https://localhost:8080/",
          "height": 34
        }
      },
      "source": [
        "import os\n",
        "from Shakkala import Shakkala"
      ],
      "execution_count": 2,
      "outputs": [
        {
          "output_type": "stream",
          "text": [
            "Using TensorFlow backend.\n"
          ],
          "name": "stderr"
        }
      ]
    },
    {
      "cell_type": "code",
      "metadata": {
        "id": "5xkHm_lgkutS",
        "colab_type": "code",
        "colab": {}
      },
      "source": [
        "# create Shakkala object\n",
        "sh = Shakkala('./', version=3)\n",
        "\n",
        "#load the model \n",
        "model, graph = sh.get_model()"
      ],
      "execution_count": 0,
      "outputs": []
    },
    {
      "cell_type": "code",
      "metadata": {
        "id": "4WSGUB4BQvsT",
        "colab_type": "code",
        "outputId": "5c17f4cf-7be3-4e67-faf6-badccd63548f",
        "colab": {
          "base_uri": "https://localhost:8080/",
          "height": 51
        }
      },
      "source": [
        "input_text = \"\"\" ليس منا من لم يوقر كبيرنا ويعطف على صغيرنا\t\t\t\n",
        " \"\"\"\n",
        "\n",
        "# prepare input\n",
        "input_int = sh.prepare_input(input_text)\n",
        "\n",
        "# run the model\n",
        "with graph.as_default():\n",
        "    logits = model.predict(input_int)[0]\n",
        "\n",
        "# get the logits \n",
        "predicted_harakat = sh.logits_to_text(logits)\n",
        "\n",
        "# final output \n",
        "final_output = sh.get_final_text(input_text, predicted_harakat)\n",
        "\n",
        "print(final_output)"
      ],
      "execution_count": 4,
      "outputs": [
        {
          "output_type": "stream",
          "text": [
            " لَيْسَ مِنَّا مَنْ لَمْ يُوقِرْ كَبِيرِنَا وَيُعْطَفُ عَلَى صَغِيرِنَا\tِ\tَ\tَ\n",
            " \n"
          ],
          "name": "stdout"
        }
      ]
    }
  ]
}