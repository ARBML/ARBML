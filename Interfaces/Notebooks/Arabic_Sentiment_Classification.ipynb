{
  "nbformat": 4,
  "nbformat_minor": 0,
  "metadata": {
    "colab": {
      "name": "Arabic_Sentiment_Classification.ipynb",
      "version": "0.3.2",
      "provenance": [],
      "collapsed_sections": [],
      "toc_visible": true
    },
    "kernelspec": {
      "name": "python3",
      "display_name": "Python 3"
    },
    "accelerator": "GPU"
  },
  "cells": [
    {
      "cell_type": "markdown",
      "metadata": {
        "id": "Klf1-MC3DEhi",
        "colab_type": "text"
      },
      "source": [
        "We use a product review dataset"
      ]
    },
    {
      "cell_type": "code",
      "metadata": {
        "id": "kvOJw5Bg6c5J",
        "colab_type": "code",
        "outputId": "312ce16e-b41e-4f98-a366-d98d8a3faf91",
        "colab": {
          "base_uri": "https://localhost:8080/",
          "height": 224
        }
      },
      "source": [
        "!wget https://raw.githubusercontent.com/hadyelsahar/large-arabic-sentiment-analysis-resouces/master/datasets/PROD.csv"
      ],
      "execution_count": 1,
      "outputs": [
        {
          "output_type": "stream",
          "text": [
            "--2019-06-04 04:45:26--  https://raw.githubusercontent.com/hadyelsahar/large-arabic-sentiment-analysis-resouces/master/datasets/PROD.csv\n",
            "Resolving raw.githubusercontent.com (raw.githubusercontent.com)... 151.101.0.133, 151.101.64.133, 151.101.128.133, ...\n",
            "Connecting to raw.githubusercontent.com (raw.githubusercontent.com)|151.101.0.133|:443... connected.\n",
            "HTTP request sent, awaiting response... 200 OK\n",
            "Length: 527639 (515K) [text/plain]\n",
            "Saving to: ‘PROD.csv’\n",
            "\n",
            "PROD.csv            100%[===================>] 515.27K  --.-KB/s    in 0.05s   \n",
            "\n",
            "2019-06-04 04:45:31 (9.79 MB/s) - ‘PROD.csv’ saved [527639/527639]\n",
            "\n"
          ],
          "name": "stdout"
        }
      ]
    },
    {
      "cell_type": "markdown",
      "metadata": {
        "id": "ZwlvjSR-DS15",
        "colab_type": "text"
      },
      "source": [
        "## Imports"
      ]
    },
    {
      "cell_type": "code",
      "metadata": {
        "id": "23FSFg5t6fc1",
        "colab_type": "code",
        "colab": {
          "base_uri": "https://localhost:8080/",
          "height": 34
        },
        "outputId": "d1df2849-a836-42e8-89fe-e5973776bbe0"
      },
      "source": [
        "import tensorflow as tf\n",
        "import re\n",
        "import numpy as np\n",
        "import csv \n",
        "from tensorflow.keras.layers import GRU, Embedding, Dense, Input, Dropout, Bidirectional, CuDNNGRU\n",
        "from tensorflow.keras.models import Sequential\n",
        "from keras.preprocessing.text import Tokenizer, text_to_word_sequence\n",
        "from keras.preprocessing.sequence import pad_sequences\n",
        "from sklearn.utils import shuffle\n"
      ],
      "execution_count": 2,
      "outputs": [
        {
          "output_type": "stream",
          "text": [
            "Using TensorFlow backend.\n"
          ],
          "name": "stderr"
        }
      ]
    },
    {
      "cell_type": "markdown",
      "metadata": {
        "id": "bfbnvdT4Cmz0",
        "colab_type": "text"
      },
      "source": [
        "## Read the Dataset"
      ]
    },
    {
      "cell_type": "markdown",
      "metadata": {
        "id": "MKhqB_MfCjEP",
        "colab_type": "text"
      },
      "source": [
        "preprocess a review by removing special characters and long spaces"
      ]
    },
    {
      "cell_type": "code",
      "metadata": {
        "id": "uJYY29Za8fx2",
        "colab_type": "code",
        "colab": {}
      },
      "source": [
        "def process_review(review):\n",
        "  out = re.sub(r\"[^\\w\\s]\", '', review)\n",
        "  out = re.sub(r\"[a-zA-Z]\", '', out)\n",
        "  out = re.sub(r\"\\n\", '', out)\n",
        "  out = re.sub(r\"\\s+\", ' ', out)\n",
        "  return out.strip()"
      ],
      "execution_count": 0,
      "outputs": []
    },
    {
      "cell_type": "code",
      "metadata": {
        "id": "T7MjMLLn6gtK",
        "colab_type": "code",
        "outputId": "6f4a548e-86b8-4c04-c6cf-ab1da90b41b0",
        "colab": {
          "base_uri": "https://localhost:8080/",
          "height": 34
        }
      },
      "source": [
        "with open('PROD.csv', 'r') as csv_file:\n",
        "  reviews = []\n",
        "  labels  = []\n",
        "  all_text = \"\"\n",
        "  count = 0\n",
        "  pos_count = 0\n",
        "  \n",
        "  #read the data\n",
        "  lines = csv.reader(csv_file, delimiter = \",\")\n",
        "  for i, line in enumerate(lines):\n",
        "    \n",
        "    #ignore the first line\n",
        "    if i == 0: continue\n",
        "    \n",
        "    #preprocess the data\n",
        "    review = process_review(line[0])\n",
        "    label  = int(line[1])\n",
        "    \n",
        "    #only allow postiive and negative reviews, \n",
        "    #also make them the same length\n",
        "    \n",
        "    if label == 1:\n",
        "      pos_count +=1\n",
        "    elif label == 0:\n",
        "      continue\n",
        "    else:\n",
        "      label += 1\n",
        "      \n",
        "    if label == 1 and pos_count > 862:\n",
        "      continue\n",
        "    \n",
        "    if review == \"\":\n",
        "      continue\n",
        "    reviews.append(review)\n",
        "    all_text += review +' \\n '\n",
        "    labels.append(label)\n",
        "    \n",
        "#shuffle the data\n",
        "reviews, labels = shuffle(reviews, labels)\n",
        "print(len(reviews))"
      ],
      "execution_count": 4,
      "outputs": [
        {
          "output_type": "stream",
          "text": [
            "1648\n"
          ],
          "name": "stdout"
        }
      ]
    },
    {
      "cell_type": "markdown",
      "metadata": {
        "id": "gbqWg60hSZ7y",
        "colab_type": "text"
      },
      "source": [
        "Look at the data"
      ]
    },
    {
      "cell_type": "code",
      "metadata": {
        "id": "7U47oLKpD8aE",
        "colab_type": "code",
        "outputId": "e87484f3-bb70-4a04-cb2e-46123645d943",
        "colab": {
          "base_uri": "https://localhost:8080/",
          "height": 207
        }
      },
      "source": [
        "for i in range(0, 10):\n",
        "  print(reviews[i], labels[i])"
      ],
      "execution_count": 5,
      "outputs": [
        {
          "output_type": "stream",
          "text": [
            "تواليت للحلاقة رائحة سلبية 0\n",
            "شكرا على سرعة التجاوب في ارسال الطلبية 1\n",
            "رائعه جدا وانصح باستخدامها فهي سريعه في التعقيم وتلخذ مساحه كبيره حيث تاخذ ٦ رضاعات وبحجم ٢٠٠ مل وتعقم خلال عشر دقائق فقط 1\n",
            "سيئة جدا ومبالغ في سعرها والله لا أنصح فيها 0\n",
            "المناديل لاتقوم بفائدتها تترك بقعة بيضاء ع الملابس ورائحتها سيئة جدا 0\n",
            "لعبة تستحق التجربة وبي سعر قليل لا يضرك أن تقول اسعر كبير لكن في المحلات الأخرى في كل لعبة سعره ٣٠٠ للمعلوميه اللعبة جديدة لا مستعملة 1\n",
            "ممتازة جدا ولها منظر جميل بعد لصقها على الحائط 1\n",
            "غير جيدة ولا انصح بها نهائيا 0\n",
            "بائع محترم انصح بالتعامل معه دقة في المواعيد وتغليف جيد 1\n",
            "1 100 0\n"
          ],
          "name": "stdout"
        }
      ]
    },
    {
      "cell_type": "code",
      "metadata": {
        "id": "XfN0narotLU8",
        "colab_type": "code",
        "colab": {}
      },
      "source": [
        "#save the dataset\n",
        "with open('product_review.txt', 'w') as f:\n",
        "  for i in range(len(reviews)):\n",
        "    f.write(f\"{reviews[i]}, {labels[i]} '\\n'\")"
      ],
      "execution_count": 0,
      "outputs": []
    },
    {
      "cell_type": "markdown",
      "metadata": {
        "id": "syg_fvtnC1AK",
        "colab_type": "text"
      },
      "source": [
        "## Create Sequences\n",
        "Create sequences by using the most repeated 500 words"
      ]
    },
    {
      "cell_type": "code",
      "metadata": {
        "id": "EZYJqgvC49Mi",
        "colab_type": "code",
        "colab": {}
      },
      "source": [
        "tknzr = Tokenizer(lower=True, split=\" \")\n",
        "tknzr.fit_on_texts(reviews)\n",
        "\n",
        "#making sequences:\n",
        "X = tknzr.texts_to_sequences(reviews)\n",
        "X = pad_sequences(X, padding='post', value=0)"
      ],
      "execution_count": 0,
      "outputs": []
    },
    {
      "cell_type": "markdown",
      "metadata": {
        "id": "Xq0Ber9ICcWb",
        "colab_type": "text"
      },
      "source": [
        "## Create Numpy Arrays"
      ]
    },
    {
      "cell_type": "code",
      "metadata": {
        "id": "8RbCFXQRBolT",
        "colab_type": "code",
        "outputId": "8afc18a6-203a-4237-d0b2-974372c31709",
        "colab": {
          "base_uri": "https://localhost:8080/",
          "height": 34
        }
      },
      "source": [
        "X = np.array(X)\n",
        "y = np.array(labels)\n",
        "\n",
        "print(X.shape)"
      ],
      "execution_count": 45,
      "outputs": [
        {
          "output_type": "stream",
          "text": [
            "(1648, 113)\n"
          ],
          "name": "stdout"
        }
      ]
    },
    {
      "cell_type": "markdown",
      "metadata": {
        "id": "5uHdRK4cCrGJ",
        "colab_type": "text"
      },
      "source": [
        "## Create the model"
      ]
    },
    {
      "cell_type": "code",
      "metadata": {
        "id": "p3u3OxEcBfJ2",
        "colab_type": "code",
        "colab": {}
      },
      "source": [
        "model = Sequential()\n",
        "model.add(Embedding(len(tknzr.word_index), 32))\n",
        "model.add(Bidirectional(GRU(units = 32)))\n",
        "model.add(Dense(32, activation = 'tanh'))\n",
        "model.add(Dropout(0.3))\n",
        "model.add(Dense(1, activation = 'sigmoid'))\n",
        "model.compile(optimizer = 'adam', loss = 'binary_crossentropy', metrics = ['accuracy'])"
      ],
      "execution_count": 0,
      "outputs": []
    },
    {
      "cell_type": "code",
      "metadata": {
        "id": "9DMLy0-x-WR5",
        "colab_type": "code",
        "outputId": "ae0a9c27-5a3f-4b5f-cf21-fa58112c7714",
        "colab": {
          "base_uri": "https://localhost:8080/",
          "height": 306
        }
      },
      "source": [
        "model.summary()"
      ],
      "execution_count": 94,
      "outputs": [
        {
          "output_type": "stream",
          "text": [
            "_________________________________________________________________\n",
            "Layer (type)                 Output Shape              Param #   \n",
            "=================================================================\n",
            "embedding_6 (Embedding)      (None, None, 32)          217056    \n",
            "_________________________________________________________________\n",
            "bidirectional_4 (Bidirection (None, 64)                12480     \n",
            "_________________________________________________________________\n",
            "dense_12 (Dense)             (None, 32)                2080      \n",
            "_________________________________________________________________\n",
            "dropout_4 (Dropout)          (None, 32)                0         \n",
            "_________________________________________________________________\n",
            "dense_13 (Dense)             (None, 1)                 33        \n",
            "=================================================================\n",
            "Total params: 231,649\n",
            "Trainable params: 231,649\n",
            "Non-trainable params: 0\n",
            "_________________________________________________________________\n"
          ],
          "name": "stdout"
        }
      ]
    },
    {
      "cell_type": "markdown",
      "metadata": {
        "id": "5-7U36aDCtQu",
        "colab_type": "text"
      },
      "source": [
        "## Train the model"
      ]
    },
    {
      "cell_type": "code",
      "metadata": {
        "id": "52Ew-5ZyC3Nf",
        "colab_type": "code",
        "outputId": "57a9d991-5601-4c28-9910-b545ee7f2780",
        "colab": {
          "base_uri": "https://localhost:8080/",
          "height": 88
        }
      },
      "source": [
        "model.fit(X, y, validation_split = 0.1, epochs = 7, batch_size= 128, shuffle = True)"
      ],
      "execution_count": 96,
      "outputs": [
        {
          "output_type": "stream",
          "text": [
            "Train on 1483 samples, validate on 165 samples\n",
            "1483/1483 [==============================] - 3s 2ms/sample - loss: 0.1088 - acc: 0.9717 - val_loss: 0.5598 - val_acc: 0.8000\n"
          ],
          "name": "stdout"
        },
        {
          "output_type": "execute_result",
          "data": {
            "text/plain": [
              "<tensorflow.python.keras.callbacks.History at 0x7f9857375da0>"
            ]
          },
          "metadata": {
            "tags": []
          },
          "execution_count": 96
        }
      ]
    },
    {
      "cell_type": "markdown",
      "metadata": {
        "id": "jwZQrxhdDV4r",
        "colab_type": "text"
      },
      "source": [
        "## Tests"
      ]
    },
    {
      "cell_type": "code",
      "metadata": {
        "id": "-Q-Texz3DQsH",
        "colab_type": "code",
        "colab": {}
      },
      "source": [
        "class_names = ['سلبي' , 'إيجابي']\n",
        "def classify(sentence):\n",
        "  sentence = process_review(sentence)\n",
        "  sequence = [tknzr.word_index[word] for word in sentence.split(' ')]\n",
        "  sequence = pad_sequences([sequence], maxlen = X.shape[1], padding='post', value=0)\n",
        "  #print(sequence.dtype)\n",
        "  #print(sequence)\n",
        "  pred = model.predict(sequence)[0][0]\n",
        "  print(class_names[np.round(pred).astype('int')], pred)\n",
        "  "
      ],
      "execution_count": 0,
      "outputs": []
    },
    {
      "cell_type": "code",
      "metadata": {
        "id": "GMgcfGkZRLF2",
        "colab_type": "code",
        "outputId": "011ce6b1-bf61-40fc-a8dd-9a87575d77c1",
        "colab": {
          "base_uri": "https://localhost:8080/",
          "height": 34
        }
      },
      "source": [
        "classify(\"جميل\")"
      ],
      "execution_count": 98,
      "outputs": [
        {
          "output_type": "stream",
          "text": [
            "إيجابي 0.545708\n"
          ],
          "name": "stdout"
        }
      ]
    },
    {
      "cell_type": "code",
      "metadata": {
        "id": "d-A1oIYFdopV",
        "colab_type": "code",
        "outputId": "827664d1-230e-4b3e-dd16-e15384a722ac",
        "colab": {
          "base_uri": "https://localhost:8080/",
          "height": 34
        }
      },
      "source": [
        "classify(\"السلعة كانت جيدة\")"
      ],
      "execution_count": 99,
      "outputs": [
        {
          "output_type": "stream",
          "text": [
            "إيجابي 0.85597116\n"
          ],
          "name": "stdout"
        }
      ]
    },
    {
      "cell_type": "code",
      "metadata": {
        "id": "9uQNyxSodr0X",
        "colab_type": "code",
        "outputId": "50b0d4d2-d1ef-4840-e2b4-e284c7cb2370",
        "colab": {
          "base_uri": "https://localhost:8080/",
          "height": 34
        }
      },
      "source": [
        "classify(\"سيء\")"
      ],
      "execution_count": 100,
      "outputs": [
        {
          "output_type": "stream",
          "text": [
            "سلبي 0.03726467\n"
          ],
          "name": "stdout"
        }
      ]
    },
    {
      "cell_type": "code",
      "metadata": {
        "id": "XKR_5ZN3dtSJ",
        "colab_type": "code",
        "outputId": "a49fadef-8236-4d28-fb59-ca2f3e5789a3",
        "colab": {
          "base_uri": "https://localhost:8080/",
          "height": 34
        }
      },
      "source": [
        "classify(\"لا بأس بها\")"
      ],
      "execution_count": 101,
      "outputs": [
        {
          "output_type": "stream",
          "text": [
            "سلبي 0.03799555\n"
          ],
          "name": "stdout"
        }
      ]
    },
    {
      "cell_type": "code",
      "metadata": {
        "id": "FTc_5B5OdxIc",
        "colab_type": "code",
        "outputId": "c721d39a-67dd-4211-95ce-f43b31a3c3cf",
        "colab": {
          "base_uri": "https://localhost:8080/",
          "height": 34
        }
      },
      "source": [
        "classify(\"تفاجأت بجودة المنتج\")"
      ],
      "execution_count": 102,
      "outputs": [
        {
          "output_type": "stream",
          "text": [
            "سلبي 0.1514895\n"
          ],
          "name": "stdout"
        }
      ]
    },
    {
      "cell_type": "code",
      "metadata": {
        "id": "Q2atRnC1szEF",
        "colab_type": "code",
        "colab": {}
      },
      "source": [
        "import csv\n",
        "def create_csv(file, dict):\n",
        "    with open(file, 'w') as csvfile:\n",
        "        writer = csv.writer(csvfile)\n",
        "        for key in dict.keys():\n",
        "            writer.writerow([key,dict[key]])"
      ],
      "execution_count": 0,
      "outputs": []
    },
    {
      "cell_type": "code",
      "metadata": {
        "id": "2gpsbClOs0Z1",
        "colab_type": "code",
        "colab": {}
      },
      "source": [
        "create_csv(\"word2index.csv\", tknzr.word_index)"
      ],
      "execution_count": 0,
      "outputs": []
    },
    {
      "cell_type": "code",
      "metadata": {
        "id": "wbm_GKaI8qmn",
        "colab_type": "code",
        "colab": {}
      },
      "source": [
        "model.save(\"keras.h5\")"
      ],
      "execution_count": 0,
      "outputs": []
    }
  ]
}